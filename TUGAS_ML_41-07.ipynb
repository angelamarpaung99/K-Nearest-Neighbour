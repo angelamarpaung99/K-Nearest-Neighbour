{
 "cells": [
  {
   "cell_type": "code",
   "execution_count": 55,
   "metadata": {},
   "outputs": [],
   "source": [
    "# Importing the libraries\n",
    "import numpy as np\n",
    "import pandas as pd\n",
    "\n",
    "#visualization\n",
    "import seaborn as sns\n",
    "import matplotlib.pyplot as plt\n",
    "%matplotlib inline"
   ]
  },
  {
   "cell_type": "code",
   "execution_count": 56,
   "metadata": {},
   "outputs": [],
   "source": [
    "# Importing the dataset\n",
    "df_dataset = pd.read_csv('Dataset.csv')\n",
    "df_data_train = pd.read_csv('Data Train.csv')\n",
    "X = df_dataset.iloc[:, :-1].values\n",
    "y = df_dataset.iloc[:, 6].values"
   ]
  },
  {
   "cell_type": "code",
   "execution_count": 57,
   "metadata": {},
   "outputs": [
    {
     "data": {
      "text/html": [
       "<div>\n",
       "<style scoped>\n",
       "    .dataframe tbody tr th:only-of-type {\n",
       "        vertical-align: middle;\n",
       "    }\n",
       "\n",
       "    .dataframe tbody tr th {\n",
       "        vertical-align: top;\n",
       "    }\n",
       "\n",
       "    .dataframe thead th {\n",
       "        text-align: right;\n",
       "    }\n",
       "</style>\n",
       "<table border=\"1\" class=\"dataframe\">\n",
       "  <thead>\n",
       "    <tr style=\"text-align: right;\">\n",
       "      <th></th>\n",
       "      <th>Att1</th>\n",
       "      <th>Att2</th>\n",
       "      <th>Att3</th>\n",
       "      <th>Att4</th>\n",
       "      <th>Att5</th>\n",
       "      <th>Att6</th>\n",
       "      <th>Class</th>\n",
       "    </tr>\n",
       "  </thead>\n",
       "  <tbody>\n",
       "    <tr>\n",
       "      <td>0</td>\n",
       "      <td>3.9</td>\n",
       "      <td>Besar</td>\n",
       "      <td>Hijau</td>\n",
       "      <td>48</td>\n",
       "      <td>81.0</td>\n",
       "      <td>3</td>\n",
       "      <td>A</td>\n",
       "    </tr>\n",
       "    <tr>\n",
       "      <td>1</td>\n",
       "      <td>NaN</td>\n",
       "      <td>Besar</td>\n",
       "      <td>Merah</td>\n",
       "      <td>36</td>\n",
       "      <td>63.0</td>\n",
       "      <td>3</td>\n",
       "      <td>A</td>\n",
       "    </tr>\n",
       "    <tr>\n",
       "      <td>2</td>\n",
       "      <td>7.7</td>\n",
       "      <td>Kecil</td>\n",
       "      <td>Merah</td>\n",
       "      <td>12</td>\n",
       "      <td>20.0</td>\n",
       "      <td>3</td>\n",
       "      <td>C</td>\n",
       "    </tr>\n",
       "    <tr>\n",
       "      <td>3</td>\n",
       "      <td>10.9</td>\n",
       "      <td>Besar</td>\n",
       "      <td>Biru</td>\n",
       "      <td>12</td>\n",
       "      <td>16.0</td>\n",
       "      <td>2</td>\n",
       "      <td>C</td>\n",
       "    </tr>\n",
       "    <tr>\n",
       "      <td>4</td>\n",
       "      <td>5.7</td>\n",
       "      <td>Kecil</td>\n",
       "      <td>Hijau</td>\n",
       "      <td>24</td>\n",
       "      <td>42.0</td>\n",
       "      <td>3</td>\n",
       "      <td>B</td>\n",
       "    </tr>\n",
       "  </tbody>\n",
       "</table>\n",
       "</div>"
      ],
      "text/plain": [
       "   Att1   Att2   Att3  Att4  Att5  Att6 Class\n",
       "0   3.9  Besar  Hijau    48  81.0     3     A\n",
       "1   NaN  Besar  Merah    36  63.0     3     A\n",
       "2   7.7  Kecil  Merah    12  20.0     3     C\n",
       "3  10.9  Besar   Biru    12  16.0     2     C\n",
       "4   5.7  Kecil  Hijau    24  42.0     3     B"
      ]
     },
     "execution_count": 57,
     "metadata": {},
     "output_type": "execute_result"
    }
   ],
   "source": [
    "df_data_train.head()"
   ]
  },
  {
   "cell_type": "code",
   "execution_count": 58,
   "metadata": {},
   "outputs": [
    {
     "data": {
      "text/html": [
       "<div>\n",
       "<style scoped>\n",
       "    .dataframe tbody tr th:only-of-type {\n",
       "        vertical-align: middle;\n",
       "    }\n",
       "\n",
       "    .dataframe tbody tr th {\n",
       "        vertical-align: top;\n",
       "    }\n",
       "\n",
       "    .dataframe thead th {\n",
       "        text-align: right;\n",
       "    }\n",
       "</style>\n",
       "<table border=\"1\" class=\"dataframe\">\n",
       "  <thead>\n",
       "    <tr style=\"text-align: right;\">\n",
       "      <th></th>\n",
       "      <th>Att1</th>\n",
       "      <th>Att4</th>\n",
       "      <th>Att5</th>\n",
       "      <th>Att6</th>\n",
       "    </tr>\n",
       "  </thead>\n",
       "  <tbody>\n",
       "    <tr>\n",
       "      <td>count</td>\n",
       "      <td>10.000000</td>\n",
       "      <td>11.000000</td>\n",
       "      <td>10.000000</td>\n",
       "      <td>11.000000</td>\n",
       "    </tr>\n",
       "    <tr>\n",
       "      <td>mean</td>\n",
       "      <td>6.200000</td>\n",
       "      <td>28.363636</td>\n",
       "      <td>51.900000</td>\n",
       "      <td>2.727273</td>\n",
       "    </tr>\n",
       "    <tr>\n",
       "      <td>std</td>\n",
       "      <td>2.521463</td>\n",
       "      <td>13.440779</td>\n",
       "      <td>23.548767</td>\n",
       "      <td>0.467099</td>\n",
       "    </tr>\n",
       "    <tr>\n",
       "      <td>min</td>\n",
       "      <td>2.500000</td>\n",
       "      <td>12.000000</td>\n",
       "      <td>16.000000</td>\n",
       "      <td>2.000000</td>\n",
       "    </tr>\n",
       "    <tr>\n",
       "      <td>25%</td>\n",
       "      <td>4.475000</td>\n",
       "      <td>18.000000</td>\n",
       "      <td>34.500000</td>\n",
       "      <td>2.500000</td>\n",
       "    </tr>\n",
       "    <tr>\n",
       "      <td>50%</td>\n",
       "      <td>5.750000</td>\n",
       "      <td>24.000000</td>\n",
       "      <td>57.000000</td>\n",
       "      <td>3.000000</td>\n",
       "    </tr>\n",
       "    <tr>\n",
       "      <td>75%</td>\n",
       "      <td>8.075000</td>\n",
       "      <td>36.000000</td>\n",
       "      <td>71.250000</td>\n",
       "      <td>3.000000</td>\n",
       "    </tr>\n",
       "    <tr>\n",
       "      <td>max</td>\n",
       "      <td>10.900000</td>\n",
       "      <td>48.000000</td>\n",
       "      <td>81.000000</td>\n",
       "      <td>3.000000</td>\n",
       "    </tr>\n",
       "  </tbody>\n",
       "</table>\n",
       "</div>"
      ],
      "text/plain": [
       "            Att1       Att4       Att5       Att6\n",
       "count  10.000000  11.000000  10.000000  11.000000\n",
       "mean    6.200000  28.363636  51.900000   2.727273\n",
       "std     2.521463  13.440779  23.548767   0.467099\n",
       "min     2.500000  12.000000  16.000000   2.000000\n",
       "25%     4.475000  18.000000  34.500000   2.500000\n",
       "50%     5.750000  24.000000  57.000000   3.000000\n",
       "75%     8.075000  36.000000  71.250000   3.000000\n",
       "max    10.900000  48.000000  81.000000   3.000000"
      ]
     },
     "execution_count": 58,
     "metadata": {},
     "output_type": "execute_result"
    }
   ],
   "source": [
    "#describe numerical data\n",
    "df_data_train.describe()"
   ]
  },
  {
   "cell_type": "code",
   "execution_count": 59,
   "metadata": {},
   "outputs": [
    {
     "data": {
      "text/html": [
       "<div>\n",
       "<style scoped>\n",
       "    .dataframe tbody tr th:only-of-type {\n",
       "        vertical-align: middle;\n",
       "    }\n",
       "\n",
       "    .dataframe tbody tr th {\n",
       "        vertical-align: top;\n",
       "    }\n",
       "\n",
       "    .dataframe thead th {\n",
       "        text-align: right;\n",
       "    }\n",
       "</style>\n",
       "<table border=\"1\" class=\"dataframe\">\n",
       "  <thead>\n",
       "    <tr style=\"text-align: right;\">\n",
       "      <th></th>\n",
       "      <th>Att2</th>\n",
       "      <th>Att3</th>\n",
       "      <th>Class</th>\n",
       "    </tr>\n",
       "  </thead>\n",
       "  <tbody>\n",
       "    <tr>\n",
       "      <td>count</td>\n",
       "      <td>11</td>\n",
       "      <td>11</td>\n",
       "      <td>11</td>\n",
       "    </tr>\n",
       "    <tr>\n",
       "      <td>unique</td>\n",
       "      <td>3</td>\n",
       "      <td>3</td>\n",
       "      <td>3</td>\n",
       "    </tr>\n",
       "    <tr>\n",
       "      <td>top</td>\n",
       "      <td>Besar</td>\n",
       "      <td>Biru</td>\n",
       "      <td>C</td>\n",
       "    </tr>\n",
       "    <tr>\n",
       "      <td>freq</td>\n",
       "      <td>6</td>\n",
       "      <td>4</td>\n",
       "      <td>4</td>\n",
       "    </tr>\n",
       "  </tbody>\n",
       "</table>\n",
       "</div>"
      ],
      "text/plain": [
       "         Att2  Att3 Class\n",
       "count      11    11    11\n",
       "unique      3     3     3\n",
       "top     Besar  Biru     C\n",
       "freq        6     4     4"
      ]
     },
     "execution_count": 59,
     "metadata": {},
     "output_type": "execute_result"
    }
   ],
   "source": [
    "#describe categorical data\n",
    "df_data_train.describe(include=['O'])"
   ]
  },
  {
   "cell_type": "code",
   "execution_count": 60,
   "metadata": {},
   "outputs": [
    {
     "data": {
      "text/plain": [
       "Att1     1\n",
       "Att2     0\n",
       "Att3     0\n",
       "Att4     0\n",
       "Att5     1\n",
       "Att6     0\n",
       "Class    0\n",
       "dtype: int64"
      ]
     },
     "execution_count": 60,
     "metadata": {},
     "output_type": "execute_result"
    }
   ],
   "source": [
    "# Find if there is null values\n",
    "df_data_train.isnull().sum()"
   ]
  },
  {
   "cell_type": "code",
   "execution_count": 61,
   "metadata": {},
   "outputs": [],
   "source": [
    "#Taking care of missing data\n",
    "from sklearn.impute import SimpleImputer\n",
    "imputer = SimpleImputer(missing_values=np.nan, strategy=\"median\")\n",
    "imputer = imputer.fit(X[:, [0,4]]) \n",
    "X[:,[0,4]] = imputer.transform(X[:,[0,4]])"
   ]
  },
  {
   "cell_type": "code",
   "execution_count": 62,
   "metadata": {},
   "outputs": [
    {
     "data": {
      "text/plain": [
       "array([[3.9, 'Besar', 'Hijau', 48, 81.0, 3],\n",
       "       [5.65, 'Besar', 'Merah', 36, 63.0, 3],\n",
       "       [7.7, 'Kecil', 'Merah', 12, 20.0, 3],\n",
       "       [10.9, 'Besar', 'Biru', 12, 16.0, 2],\n",
       "       [5.7, 'Kecil', 'Hijau', 24, 42.0, 3],\n",
       "       [4.7, 'Besar', 'Hijau', 36, 62.0, 3],\n",
       "       [8.2, 'Kecil', 'Biru', 24, 57.0, 2],\n",
       "       [4.4, 'Sedang', 'Merah', 36, 74.0, 3],\n",
       "       [8.2, 'Sedang', 'Biru', 12, 32.0, 2],\n",
       "       [5.8, 'Besar', 'Biru', 24, 52.0, 3],\n",
       "       [2.5, 'Besar', 'Hijau', 48, 77.0, 3],\n",
       "       [2.9, 'Besar', 'Biru', 36, 91.0, 3],\n",
       "       [5.6, 'Kecil', 'Merah', 24, 33.0, 3],\n",
       "       [7.5, 'Kecil', 'Hijau', 24, 22.0, 2],\n",
       "       [2.2, 'Sedang', 'Merah', 24, 76.0, 3],\n",
       "       [4.5, 'Kecil', 'Biru', 24, 68.0, 3],\n",
       "       [6.3, 'Sedang', 'Merah', 24, 32.0, 3]], dtype=object)"
      ]
     },
     "execution_count": 62,
     "metadata": {},
     "output_type": "execute_result"
    }
   ],
   "source": [
    "# Print X to see the results after imputing with median\n",
    "X"
   ]
  },
  {
   "cell_type": "code",
   "execution_count": 63,
   "metadata": {},
   "outputs": [
    {
     "data": {
      "text/plain": [
       "<Figure size 2160x2160 with 0 Axes>"
      ]
     },
     "metadata": {},
     "output_type": "display_data"
    },
    {
     "data": {
      "image/png": "[encoded data removed]",
      "text/plain": [
       "<Figure size 432x288 with 4 Axes>"
      ]
     },
     "metadata": {
      "needs_background": "light"
     },
     "output_type": "display_data"
    }
   ],
   "source": [
    "#Check for outliers\n",
    "plt.figure(figsize=(30, 30))\n",
    "f, axes = plt.subplots(1, 4)\n",
    "sns.boxplot(y=df_data_train[\"Att1\"], ax=axes[0])\n",
    "sns.boxplot(y=df_data_train[\"Att4\"], ax=axes[1])\n",
    "sns.boxplot(y=df_data_train[\"Att5\"], ax=axes[2])\n",
    "sns.boxplot(y=df_data_train[\"Att6\"], ax=axes[3])\n",
    "plt.subplots_adjust(wspace=1)"
   ]
  },
  {
   "cell_type": "code",
   "execution_count": 64,
   "metadata": {},
   "outputs": [
    {
     "data": {
      "text/plain": [
       "3    8\n",
       "2    3\n",
       "Name: Att6, dtype: int64"
      ]
     },
     "execution_count": 64,
     "metadata": {},
     "output_type": "execute_result"
    }
   ],
   "source": [
    "# Get Att6 value counts\n",
    "df_data_train['Att6'].value_counts()"
   ]
  },
  {
   "cell_type": "code",
   "execution_count": 65,
   "metadata": {},
   "outputs": [
    {
     "data": {
      "text/html": [
       "<style  type=\"text/css\" >\n",
       "    #T_24eacb52_56b4_11ea_bc75_d0abd54fe097row0_col0 {\n",
       "            background-color:  #b40426;\n",
       "            color:  #f1f1f1;\n",
       "        }    #T_24eacb52_56b4_11ea_bc75_d0abd54fe097row0_col1 {\n",
       "            background-color:  #3b4cc0;\n",
       "            color:  #f1f1f1;\n",
       "        }    #T_24eacb52_56b4_11ea_bc75_d0abd54fe097row0_col2 {\n",
       "            background-color:  #3b4cc0;\n",
       "            color:  #f1f1f1;\n",
       "        }    #T_24eacb52_56b4_11ea_bc75_d0abd54fe097row0_col3 {\n",
       "            background-color:  #3b4cc0;\n",
       "            color:  #f1f1f1;\n",
       "        }    #T_24eacb52_56b4_11ea_bc75_d0abd54fe097row1_col0 {\n",
       "            background-color:  #3f53c6;\n",
       "            color:  #f1f1f1;\n",
       "        }    #T_24eacb52_56b4_11ea_bc75_d0abd54fe097row1_col1 {\n",
       "            background-color:  #b40426;\n",
       "            color:  #f1f1f1;\n",
       "        }    #T_24eacb52_56b4_11ea_bc75_d0abd54fe097row1_col2 {\n",
       "            background-color:  #bb1b2c;\n",
       "            color:  #f1f1f1;\n",
       "        }    #T_24eacb52_56b4_11ea_bc75_d0abd54fe097row1_col3 {\n",
       "            background-color:  #f29072;\n",
       "            color:  #000000;\n",
       "        }    #T_24eacb52_56b4_11ea_bc75_d0abd54fe097row2_col0 {\n",
       "            background-color:  #3b4cc0;\n",
       "            color:  #f1f1f1;\n",
       "        }    #T_24eacb52_56b4_11ea_bc75_d0abd54fe097row2_col1 {\n",
       "            background-color:  #bb1b2c;\n",
       "            color:  #f1f1f1;\n",
       "        }    #T_24eacb52_56b4_11ea_bc75_d0abd54fe097row2_col2 {\n",
       "            background-color:  #b40426;\n",
       "            color:  #f1f1f1;\n",
       "        }    #T_24eacb52_56b4_11ea_bc75_d0abd54fe097row2_col3 {\n",
       "            background-color:  #ef886b;\n",
       "            color:  #000000;\n",
       "        }    #T_24eacb52_56b4_11ea_bc75_d0abd54fe097row3_col0 {\n",
       "            background-color:  #4f69d9;\n",
       "            color:  #000000;\n",
       "        }    #T_24eacb52_56b4_11ea_bc75_d0abd54fe097row3_col1 {\n",
       "            background-color:  #f08b6e;\n",
       "            color:  #000000;\n",
       "        }    #T_24eacb52_56b4_11ea_bc75_d0abd54fe097row3_col2 {\n",
       "            background-color:  #ec8165;\n",
       "            color:  #000000;\n",
       "        }    #T_24eacb52_56b4_11ea_bc75_d0abd54fe097row3_col3 {\n",
       "            background-color:  #b40426;\n",
       "            color:  #f1f1f1;\n",
       "        }</style><table id=\"T_24eacb52_56b4_11ea_bc75_d0abd54fe097\" ><thead>    <tr>        <th class=\"blank level0\" ></th>        <th class=\"col_heading level0 col0\" >Att1</th>        <th class=\"col_heading level0 col1\" >Att4</th>        <th class=\"col_heading level0 col2\" >Att5</th>        <th class=\"col_heading level0 col3\" >Att6</th>    </tr></thead><tbody>\n",
       "                <tr>\n",
       "                        <th id=\"T_24eacb52_56b4_11ea_bc75_d0abd54fe097level0_row0\" class=\"row_heading level0 row0\" >Att1</th>\n",
       "                        <td id=\"T_24eacb52_56b4_11ea_bc75_d0abd54fe097row0_col0\" class=\"data row0 col0\" >1</td>\n",
       "                        <td id=\"T_24eacb52_56b4_11ea_bc75_d0abd54fe097row0_col1\" class=\"data row0 col1\" >-0.893102</td>\n",
       "                        <td id=\"T_24eacb52_56b4_11ea_bc75_d0abd54fe097row0_col2\" class=\"data row0 col2\" >-0.925972</td>\n",
       "                        <td id=\"T_24eacb52_56b4_11ea_bc75_d0abd54fe097row0_col3\" class=\"data row0 col3\" >-0.793662</td>\n",
       "            </tr>\n",
       "            <tr>\n",
       "                        <th id=\"T_24eacb52_56b4_11ea_bc75_d0abd54fe097level0_row1\" class=\"row_heading level0 row1\" >Att4</th>\n",
       "                        <td id=\"T_24eacb52_56b4_11ea_bc75_d0abd54fe097row1_col0\" class=\"data row1 col0\" >-0.893102</td>\n",
       "                        <td id=\"T_24eacb52_56b4_11ea_bc75_d0abd54fe097row1_col1\" class=\"data row1 col1\" >1</td>\n",
       "                        <td id=\"T_24eacb52_56b4_11ea_bc75_d0abd54fe097row1_col2\" class=\"data row1 col2\" >0.96233</td>\n",
       "                        <td id=\"T_24eacb52_56b4_11ea_bc75_d0abd54fe097row1_col3\" class=\"data row1 col3\" >0.590791</td>\n",
       "            </tr>\n",
       "            <tr>\n",
       "                        <th id=\"T_24eacb52_56b4_11ea_bc75_d0abd54fe097level0_row2\" class=\"row_heading level0 row2\" >Att5</th>\n",
       "                        <td id=\"T_24eacb52_56b4_11ea_bc75_d0abd54fe097row2_col0\" class=\"data row2 col0\" >-0.925972</td>\n",
       "                        <td id=\"T_24eacb52_56b4_11ea_bc75_d0abd54fe097row2_col1\" class=\"data row2 col1\" >0.96233</td>\n",
       "                        <td id=\"T_24eacb52_56b4_11ea_bc75_d0abd54fe097row2_col2\" class=\"data row2 col2\" >1</td>\n",
       "                        <td id=\"T_24eacb52_56b4_11ea_bc75_d0abd54fe097row2_col3\" class=\"data row2 col3\" >0.624431</td>\n",
       "            </tr>\n",
       "            <tr>\n",
       "                        <th id=\"T_24eacb52_56b4_11ea_bc75_d0abd54fe097level0_row3\" class=\"row_heading level0 row3\" >Att6</th>\n",
       "                        <td id=\"T_24eacb52_56b4_11ea_bc75_d0abd54fe097row3_col0\" class=\"data row3 col0\" >-0.793662</td>\n",
       "                        <td id=\"T_24eacb52_56b4_11ea_bc75_d0abd54fe097row3_col1\" class=\"data row3 col1\" >0.590791</td>\n",
       "                        <td id=\"T_24eacb52_56b4_11ea_bc75_d0abd54fe097row3_col2\" class=\"data row3 col2\" >0.624431</td>\n",
       "                        <td id=\"T_24eacb52_56b4_11ea_bc75_d0abd54fe097row3_col3\" class=\"data row3 col3\" >1</td>\n",
       "            </tr>\n",
       "    </tbody></table>"
      ],
      "text/plain": [
       "<pandas.io.formats.style.Styler at 0x25d9a904b48>"
      ]
     },
     "execution_count": 65,
     "metadata": {},
     "output_type": "execute_result"
    }
   ],
   "source": [
    "# Plot matrix correlation\n",
    "corr = df_data_train.corr()\n",
    "corr.style.background_gradient(cmap='coolwarm')"
   ]
  },
  {
   "cell_type": "code",
   "execution_count": 66,
   "metadata": {},
   "outputs": [],
   "source": [
    "from sklearn.preprocessing import LabelEncoder, OneHotEncoder\n",
    "from sklearn.compose import ColumnTransformer\n",
    "\n",
    "#Encoding categorical data\n",
    "labelEncoder_X = LabelEncoder()\n",
    "categories = pd.Categorical(df_dataset['Att2'], categories=['Kecil', 'Sedang', 'Besar'], ordered=True)\n",
    "labels,unique = pd.factorize(categories, sort=True)\n",
    "X[:,1] = labels\n",
    "X[:,2] = labelEncoder_X.fit_transform(X[:,2])\n",
    "\n",
    "# Encoding Independent Variable\n",
    "from sklearn.preprocessing import OneHotEncoder\n",
    "from sklearn.compose import ColumnTransformer\n",
    "ct = ColumnTransformer([('encoder',OneHotEncoder(),[2])], remainder='passthrough')\n",
    "X = np.array(ct.fit_transform(X), dtype=np.float)"
   ]
  },
  {
   "cell_type": "code",
   "execution_count": 67,
   "metadata": {},
   "outputs": [],
   "source": [
    "# Splitting the data train into the training set and test set    \n",
    "from sklearn.model_selection import train_test_split\n",
    "X_train, X_test, y_train, y_test = train_test_split(X, y, test_size = 6/17, shuffle=False)\n",
    "x_train_2 = X_train\n",
    "y_train_2 = y_train"
   ]
  },
  {
   "cell_type": "code",
   "execution_count": 68,
   "metadata": {},
   "outputs": [],
   "source": [
    "# Feature Scaling\n",
    "from sklearn.preprocessing import MinMaxScaler\n",
    "sc = MinMaxScaler()\n",
    "X_train = sc.fit_transform(X_train)\n",
    "X_test = sc.fit_transform(X_test)"
   ]
  },
  {
   "cell_type": "code",
   "execution_count": 69,
   "metadata": {},
   "outputs": [],
   "source": [
    "# Splitting the data train into the training set and validation set \n",
    "X_train, X_val, y_train, y_val = train_test_split(X_train,y_train, test_size=4/11,shuffle=False)"
   ]
  },
  {
   "cell_type": "code",
   "execution_count": 70,
   "metadata": {},
   "outputs": [
    {
     "data": {
      "text/plain": [
       "KNeighborsClassifier(algorithm='auto', leaf_size=30, metric='minkowski',\n",
       "                     metric_params=None, n_jobs=None, n_neighbors=5, p=2,\n",
       "                     weights='uniform')"
      ]
     },
     "execution_count": 70,
     "metadata": {},
     "output_type": "execute_result"
    }
   ],
   "source": [
    "# Fitting K-NN to the Training set\n",
    "from sklearn.neighbors import KNeighborsClassifier\n",
    "model = KNeighborsClassifier(n_neighbors = 5, metric = 'minkowski', p = 2)\n",
    "model.fit(X_train, y_train)"
   ]
  },
  {
   "cell_type": "code",
   "execution_count": 71,
   "metadata": {},
   "outputs": [],
   "source": [
    "# Predicting the validation set results\n",
    "y_val_pred = model.predict(X_val)"
   ]
  },
  {
   "cell_type": "code",
   "execution_count": 72,
   "metadata": {},
   "outputs": [
    {
     "name": "stdout",
     "output_type": "stream",
     "text": [
      "Accuracy : 75.0 %\n"
     ]
    }
   ],
   "source": [
    "# Count accuracy\n",
    "from sklearn import metrics\n",
    "print('Accuracy :', metrics.accuracy_score(y_val, y_val_pred)*100,'%')"
   ]
  },
  {
   "cell_type": "code",
   "execution_count": 73,
   "metadata": {},
   "outputs": [
    {
     "name": "stdout",
     "output_type": "stream",
     "text": [
      "['A' 'B' 'C' 'A' 'C' 'B']\n"
     ]
    }
   ],
   "source": [
    "# Predict test set results \n",
    "y_pred = model.predict(X_test)\n",
    "print(y_pred)"
   ]
  },
  {
   "cell_type": "code",
   "execution_count": 76,
   "metadata": {},
   "outputs": [
    {
     "name": "stderr",
     "output_type": "stream",
     "text": [
      "C:\\Anaconda\\lib\\site-packages\\sklearn\\model_selection\\_split.py:667: UserWarning: The least populated class in y has only 3 members, which is less than n_splits=4.\n",
      "  % (min_groups, self.n_splits)), UserWarning)\n"
     ]
    },
    {
     "data": {
      "text/plain": [
       "{'fit_time': array([0.00409365, 0.00070786, 0.00472689, 0.0010407 ]),\n",
       " 'score_time': array([0.00321031, 0.0005734 , 0.00149179, 0.00099349]),\n",
       " 'test_score': array([1.        , 0.66666667, 0.66666667, 1.        ])}"
      ]
     },
     "execution_count": 76,
     "metadata": {},
     "output_type": "execute_result"
    }
   ],
   "source": [
    "# Count accruracy using k-fold cross validation\n",
    "from sklearn.model_selection import cross_validate\n",
    "cross_validate(model, x_train_2, y_train_2, cv=4)"
   ]
  },
  {
   "cell_type": "code",
   "execution_count": 81,
   "metadata": {},
   "outputs": [
    {
     "name": "stdout",
     "output_type": "stream",
     "text": [
      "Accuracy of model with Cross Validation :  83.33333333333333 %\n"
     ]
    },
    {
     "name": "stderr",
     "output_type": "stream",
     "text": [
      "C:\\Anaconda\\lib\\site-packages\\sklearn\\model_selection\\_split.py:667: UserWarning: The least populated class in y has only 3 members, which is less than n_splits=4.\n",
      "  % (min_groups, self.n_splits)), UserWarning)\n"
     ]
    }
   ],
   "source": [
    "from sklearn.model_selection import cross_val_score, cross_val_predict\n",
    "accuracy = cross_val_score(model, x_train_2, y_train_2, cv=4)\n",
    "print(\"Accuracy of model with Cross Validation : \", accuracy.mean()*100,\"%\")"
   ]
  },
  {
   "cell_type": "code",
   "execution_count": 84,
   "metadata": {},
   "outputs": [
    {
     "data": {
      "image/png": "[encoded data removed]",
      "text/plain": [
       "<Figure size 432x288 with 1 Axes>"
      ]
     },
     "metadata": {
      "needs_background": "light"
     },
     "output_type": "display_data"
    }
   ],
   "source": [
    "from sklearn.decomposition import PCA\n",
    "pca = PCA(n_components=2)\n",
    "\n",
    "# Preparing colors for each label\n",
    "colors = {\n",
    "            'A': 'red',\n",
    "            'B': 'green',\n",
    "            'C': 'blue'\n",
    "         }\n",
    "\n",
    "# Plotting train data\n",
    "visualized_train = pd.DataFrame(data=pca.fit_transform(x_train_2), columns=['x', 'y'])\n",
    "train_x_axis = visualized_train['x']\n",
    "train_y_axis = visualized_train['y']\n",
    "train_result = y_train_2\n",
    "\n",
    "for i in range(0, len(train_x_axis)):\n",
    "    plt.scatter(train_x_axis[i], train_y_axis[i], color=colors[train_result[i]], marker='o')\n",
    "\n",
    "# Plotting test data\n",
    "visualized_test = pd.DataFrame(data=pca.fit_transform(X_test), columns=['x', 'y'])\n",
    "test_x_axis = visualized_test['x']\n",
    "test_y_axis = visualized_test['y']\n",
    "test_result = y_pred\n",
    "\n",
    "for i in range(0, len(test_x_axis)):\n",
    "    plt.scatter(test_x_axis[i], test_y_axis[i], color=colors[test_result[i]], marker='x')"
   ]
  }
 ],
 "metadata": {
  "kernelspec": {
   "display_name": "Python 3",
   "language": "python",
   "name": "python3"
  },
  "language_info": {
   "codemirror_mode": {
    "name": "ipython",
    "version": 3
   },
   "file_extension": ".py",
   "mimetype": "text/x-python",
   "name": "python",
   "nbconvert_exporter": "python",
   "pygments_lexer": "ipython3",
   "version": "3.7.4"
  }
 },
 "nbformat": 4,
 "nbformat_minor": 2
}
